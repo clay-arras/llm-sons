{
 "cells": [
  {
   "cell_type": "code",
   "execution_count": 46,
   "id": "747850c4-3b36-4e01-a22e-860114fdb0d0",
   "metadata": {},
   "outputs": [],
   "source": [
    "arb_str = '''\n",
    "- keeping the same epochs + parameters and optimizing for loss average across training and validation set. i.e. adding new features (like transitioning from naive bigram model to self attention head and seeing the improvement in loss)\n",
    "- optimizing for time per epoch, i.e. making the training faster while trying to keep the validation/training loss around the same.\n",
    "- also: defining SMALL functions with specific requirements, and testing using examples\n",
    "- pattern: defining smallest reproducible example\n",
    "\n",
    "Ｕｎｉｃｏｄｅ! 🅤🅝🅘🅒🅞🅓🅔‽ 🇺‌🇳‌🇮‌🇨‌🇴‌🇩‌🇪! 😄 The very name strikes fear and awe into the hearts of programmers worldwide. We all know we ought to “support Unicode” in our software \n",
    "The Unicode Codespace Let’s start with some general orientation. The basic elements of Unicode—its “characters”, although that term isn’t quite right—are called code points. Code points are identified by number, customarily written in hexadecimal with the prefix “U+”, such as U+0041 “A” latin capital letter a or U+03B8 “θ” greek small letter theta. Each code point also has a short name, and quite a few other properties, specified in the Unicode Character Database.The set of all possible code points is called the codespace. The Unicode codespace consists of 1,114,112 code points. \n",
    "''' "
   ]
  },
  {
   "cell_type": "code",
   "execution_count": 48,
   "id": "0cc2a62b-93fb-4184-bf52-9e308ec3e401",
   "metadata": {},
   "outputs": [],
   "source": [
    "# INCREDIBLE! HOMEMADE GARBAGE!! :))))\n",
    "\n",
    "from collections import defaultdict\n",
    "\n",
    "def byte_pair_enc(x, vocab_size = 276):\n",
    "    enc_x = list(x.encode(\"utf-8\"))\n",
    "    vocab_list = sorted(list(set(enc_x))) # original\n",
    "    # to test: need to encode the string, check if its shorter, then decode\n",
    "    \n",
    "    new_tokens = {}\n",
    "    start_idx = 256\n",
    "    num_merges = vocab_size - 256\n",
    "    while True: \n",
    "        freqs = defaultdict(lambda: 0)\n",
    "        for i in range(len(enc_x)-1):\n",
    "            freqs[tuple(enc_x[i:i+2])] += 1\n",
    "        # for i in range(zip(enc_x, enc_x[1:]))\n",
    "        \n",
    "        most_freq = max(freqs, key=freqs.get)\n",
    "        if freqs[most_freq] <= 1 or num_merges < 0:\n",
    "            break\n",
    "        \n",
    "        new_tokens[start_idx] = most_freq\n",
    "        nenc_x = []\n",
    "        i = len(enc_x)-1\n",
    "        while i >= 0:\n",
    "            if tuple(enc_x[i-1:i+1]) == most_freq:\n",
    "                nenc_x.append(start_idx)\n",
    "                i -= 1\n",
    "            else: \n",
    "                nenc_x.append(enc_x[i])\n",
    "            i -= 1\n",
    "        enc_x = nenc_x[::-1]\n",
    "        \n",
    "        start_idx += 1\n",
    "        num_merges -= 1\n",
    "\n",
    "    def decoder(x): \n",
    "        while max(x) >= 256: # we can cache these using dp, but too lazy\n",
    "            dec_x = [] \n",
    "            for i in x:\n",
    "                if i >= 256:\n",
    "                    dec_x.extend(list(new_tokens[i]))\n",
    "                else:\n",
    "                    dec_x.append(i)\n",
    "            x = dec_x\n",
    "        return bytes(dec_x).decode(\"utf-8\", errors=\"replace\")\n",
    "        \n",
    "    return enc_x, decoder\n",
    "\n",
    "enc, dec = byte_pair_enc(arb_str)\n",
    "assert arb_str == dec(enc)"
   ]
  },
  {
   "cell_type": "code",
   "execution_count": null,
   "id": "9a095abd-47d8-46d4-88ac-25c4a309298c",
   "metadata": {},
   "outputs": [],
   "source": []
  }
 ],
 "metadata": {
  "kernelspec": {
   "display_name": "base.3.11",
   "language": "python",
   "name": "base.3.11"
  },
  "language_info": {
   "codemirror_mode": {
    "name": "ipython",
    "version": 3
   },
   "file_extension": ".py",
   "mimetype": "text/x-python",
   "name": "python",
   "nbconvert_exporter": "python",
   "pygments_lexer": "ipython3",
   "version": "3.11.13"
  }
 },
 "nbformat": 4,
 "nbformat_minor": 5
}
